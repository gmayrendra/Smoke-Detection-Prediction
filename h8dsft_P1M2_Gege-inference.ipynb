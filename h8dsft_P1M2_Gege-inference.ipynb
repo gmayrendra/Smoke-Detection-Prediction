{
 "cells": [
  {
   "cell_type": "code",
   "execution_count": 13,
   "metadata": {},
   "outputs": [],
   "source": [
    "import pandas as pd\n",
    "import numpy as np\n",
    "import json\n",
    "import joblib"
   ]
  },
  {
   "cell_type": "code",
   "execution_count": 14,
   "metadata": {},
   "outputs": [],
   "source": [
    "with open('pred_rfc1.pkl','rb') as file_1:\n",
    "  all_process_forest = joblib.load(file_1)"
   ]
  },
  {
   "attachments": {},
   "cell_type": "markdown",
   "metadata": {},
   "source": [
    "`creating new variable from example of data train`"
   ]
  },
  {
   "cell_type": "code",
   "execution_count": 17,
   "metadata": {},
   "outputs": [
    {
     "data": {
      "text/html": [
       "<div>\n",
       "<style scoped>\n",
       "    .dataframe tbody tr th:only-of-type {\n",
       "        vertical-align: middle;\n",
       "    }\n",
       "\n",
       "    .dataframe tbody tr th {\n",
       "        vertical-align: top;\n",
       "    }\n",
       "\n",
       "    .dataframe thead th {\n",
       "        text-align: right;\n",
       "    }\n",
       "</style>\n",
       "<table border=\"1\" class=\"dataframe\">\n",
       "  <thead>\n",
       "    <tr style=\"text-align: right;\">\n",
       "      <th></th>\n",
       "      <th>Temperature</th>\n",
       "      <th>Humidity</th>\n",
       "      <th>TVOC</th>\n",
       "      <th>eCO2</th>\n",
       "      <th>Raw_H2</th>\n",
       "      <th>Raw_Ethanol</th>\n",
       "      <th>Pressure</th>\n",
       "    </tr>\n",
       "  </thead>\n",
       "  <tbody>\n",
       "    <tr>\n",
       "      <th>0</th>\n",
       "      <td>18.152</td>\n",
       "      <td>53.50</td>\n",
       "      <td>1193</td>\n",
       "      <td>400</td>\n",
       "      <td>12963</td>\n",
       "      <td>19387</td>\n",
       "      <td>938.737</td>\n",
       "    </tr>\n",
       "    <tr>\n",
       "      <th>1</th>\n",
       "      <td>43.480</td>\n",
       "      <td>18.33</td>\n",
       "      <td>975</td>\n",
       "      <td>420</td>\n",
       "      <td>13295</td>\n",
       "      <td>18670</td>\n",
       "      <td>933.986</td>\n",
       "    </tr>\n",
       "    <tr>\n",
       "      <th>2</th>\n",
       "      <td>20.322</td>\n",
       "      <td>50.04</td>\n",
       "      <td>1114</td>\n",
       "      <td>420</td>\n",
       "      <td>13115</td>\n",
       "      <td>20210</td>\n",
       "      <td>938.820</td>\n",
       "    </tr>\n",
       "    <tr>\n",
       "      <th>3</th>\n",
       "      <td>26.716</td>\n",
       "      <td>48.24</td>\n",
       "      <td>843</td>\n",
       "      <td>400</td>\n",
       "      <td>12670</td>\n",
       "      <td>19570</td>\n",
       "      <td>938.909</td>\n",
       "    </tr>\n",
       "    <tr>\n",
       "      <th>4</th>\n",
       "      <td>67.367</td>\n",
       "      <td>69.00</td>\n",
       "      <td>985</td>\n",
       "      <td>410</td>\n",
       "      <td>13430</td>\n",
       "      <td>19680</td>\n",
       "      <td>939.592</td>\n",
       "    </tr>\n",
       "  </tbody>\n",
       "</table>\n",
       "</div>"
      ],
      "text/plain": [
       "   Temperature  Humidity  TVOC  eCO2  Raw_H2  Raw_Ethanol  Pressure\n",
       "0       18.152     53.50  1193   400   12963        19387   938.737\n",
       "1       43.480     18.33   975   420   13295        18670   933.986\n",
       "2       20.322     50.04  1114   420   13115        20210   938.820\n",
       "3       26.716     48.24   843   400   12670        19570   938.909\n",
       "4       67.367     69.00   985   410   13430        19680   939.592"
      ]
     },
     "execution_count": 17,
     "metadata": {},
     "output_type": "execute_result"
    }
   ],
   "source": [
    "data_inf = pd.DataFrame({\n",
    "    'Temperature': [18.152, 43.480, 20.322, 26.716, 67.367],\n",
    "    'Humidity': [53.50, 18.33, 50.04, 48.24, 69.00],\n",
    "    'TVOC': [1193, 975, 1114, 843, 985],\n",
    "    'eCO2': [400, 420, 420, 400, 410],\n",
    "    'Raw_H2': [12963, 13295, 13115, 12670, 13430],\n",
    "    'Raw_Ethanol': [19387, 18670, 20210, 19570, 19680],\n",
    "    'Pressure': [938.737, 933.986, 938.820, 938.909, 939.592]\n",
    "})\n",
    "data_inf"
   ]
  },
  {
   "cell_type": "code",
   "execution_count": 18,
   "metadata": {},
   "outputs": [],
   "source": [
    "all_process_forest_result = all_process_forest.predict(data_inf)"
   ]
  },
  {
   "cell_type": "code",
   "execution_count": 19,
   "metadata": {},
   "outputs": [],
   "source": [
    "data_inf['predict_forest'] = all_process_forest_result"
   ]
  },
  {
   "cell_type": "code",
   "execution_count": 20,
   "metadata": {},
   "outputs": [
    {
     "data": {
      "text/html": [
       "<div>\n",
       "<style scoped>\n",
       "    .dataframe tbody tr th:only-of-type {\n",
       "        vertical-align: middle;\n",
       "    }\n",
       "\n",
       "    .dataframe tbody tr th {\n",
       "        vertical-align: top;\n",
       "    }\n",
       "\n",
       "    .dataframe thead th {\n",
       "        text-align: right;\n",
       "    }\n",
       "</style>\n",
       "<table border=\"1\" class=\"dataframe\">\n",
       "  <thead>\n",
       "    <tr style=\"text-align: right;\">\n",
       "      <th></th>\n",
       "      <th>Temperature</th>\n",
       "      <th>Humidity</th>\n",
       "      <th>TVOC</th>\n",
       "      <th>eCO2</th>\n",
       "      <th>Raw_H2</th>\n",
       "      <th>Raw_Ethanol</th>\n",
       "      <th>Pressure</th>\n",
       "      <th>predict_forest</th>\n",
       "    </tr>\n",
       "  </thead>\n",
       "  <tbody>\n",
       "    <tr>\n",
       "      <th>0</th>\n",
       "      <td>18.152</td>\n",
       "      <td>53.50</td>\n",
       "      <td>1193</td>\n",
       "      <td>400</td>\n",
       "      <td>12963</td>\n",
       "      <td>19387</td>\n",
       "      <td>938.737</td>\n",
       "      <td>1</td>\n",
       "    </tr>\n",
       "    <tr>\n",
       "      <th>1</th>\n",
       "      <td>43.480</td>\n",
       "      <td>18.33</td>\n",
       "      <td>975</td>\n",
       "      <td>420</td>\n",
       "      <td>13295</td>\n",
       "      <td>18670</td>\n",
       "      <td>933.986</td>\n",
       "      <td>1</td>\n",
       "    </tr>\n",
       "    <tr>\n",
       "      <th>2</th>\n",
       "      <td>20.322</td>\n",
       "      <td>50.04</td>\n",
       "      <td>1114</td>\n",
       "      <td>420</td>\n",
       "      <td>13115</td>\n",
       "      <td>20210</td>\n",
       "      <td>938.820</td>\n",
       "      <td>1</td>\n",
       "    </tr>\n",
       "    <tr>\n",
       "      <th>3</th>\n",
       "      <td>26.716</td>\n",
       "      <td>48.24</td>\n",
       "      <td>843</td>\n",
       "      <td>400</td>\n",
       "      <td>12670</td>\n",
       "      <td>19570</td>\n",
       "      <td>938.909</td>\n",
       "      <td>1</td>\n",
       "    </tr>\n",
       "    <tr>\n",
       "      <th>4</th>\n",
       "      <td>67.367</td>\n",
       "      <td>69.00</td>\n",
       "      <td>985</td>\n",
       "      <td>410</td>\n",
       "      <td>13430</td>\n",
       "      <td>19680</td>\n",
       "      <td>939.592</td>\n",
       "      <td>1</td>\n",
       "    </tr>\n",
       "  </tbody>\n",
       "</table>\n",
       "</div>"
      ],
      "text/plain": [
       "   Temperature  Humidity  TVOC  eCO2  Raw_H2  Raw_Ethanol  Pressure  \\\n",
       "0       18.152     53.50  1193   400   12963        19387   938.737   \n",
       "1       43.480     18.33   975   420   13295        18670   933.986   \n",
       "2       20.322     50.04  1114   420   13115        20210   938.820   \n",
       "3       26.716     48.24   843   400   12670        19570   938.909   \n",
       "4       67.367     69.00   985   410   13430        19680   939.592   \n",
       "\n",
       "   predict_forest  \n",
       "0               1  \n",
       "1               1  \n",
       "2               1  \n",
       "3               1  \n",
       "4               1  "
      ]
     },
     "execution_count": 20,
     "metadata": {},
     "output_type": "execute_result"
    }
   ],
   "source": [
    "data_inf"
   ]
  },
  {
   "attachments": {},
   "cell_type": "markdown",
   "metadata": {},
   "source": [
    "`from prediction obove, the Random Forest predict the fire alarm will rang`"
   ]
  }
 ],
 "metadata": {
  "kernelspec": {
   "display_name": "base",
   "language": "python",
   "name": "python3"
  },
  "language_info": {
   "codemirror_mode": {
    "name": "ipython",
    "version": 3
   },
   "file_extension": ".py",
   "mimetype": "text/x-python",
   "name": "python",
   "nbconvert_exporter": "python",
   "pygments_lexer": "ipython3",
   "version": "3.9.13"
  },
  "orig_nbformat": 4
 },
 "nbformat": 4,
 "nbformat_minor": 2
}
